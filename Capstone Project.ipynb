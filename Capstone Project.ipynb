{
    "cells": [
        {
            "cell_type": "markdown",
            "metadata": {
                "collapsed": true
            },
            "source": "# Applied Data Science Capstone\n## Jonathan Kolb"
        },
        {
            "cell_type": "markdown",
            "metadata": {},
            "source": "###  Capstone Project - The Battle of Neighborhoods (Week 1)\nAssignment Requirements:\n1. A description of the problem and a discussion of the background. **Introduction/Business Problem**\n2. A description of the data and how it will be used to solve the problem. **Data**"
        },
        {
            "cell_type": "markdown",
            "metadata": {},
            "source": "### Introduction/Business Problem\n\nWe have recently been hired by Kool Beanz, a coffee bean distributor who wants to open their own coffee shop in New York City. Kool Beanz is familiar with the classic economic problem of the Hot Dog Vendors: two vendors are sharing a beach, and they know that the visitors on the beach will visit the vendor that is closest, and that the vistors are evenly distributed acrosss the beach. Even if the vendors initially start out equally spaced out from each other, they can get more customers by moving closer to their rival. As a result, each vendor moves closer and closer to the middle of the beach to get more customers until they're right next to each other. This problem is used to explain the paradoxical outcome of gas stations, fast food restaurants, and coffee shops being located very close to each other - sometimes across the street! As a result, Kool Beanz has decided that the best place to open a coffee shop is as close to as many other coffee shops as possible, and has hired us to find these locations.\n\nTo translate this task into a data science problem, we've been tasked with identifying the centroid of coffee shop clusters in New York City, so that our client can then choose where to build their new coffee shop. "
        },
        {
            "cell_type": "markdown",
            "metadata": {},
            "source": "### Data\nWe will be using the geolocation data available from Foursquare to identify the location of coffee shops in New York City. Foursquare has the coordinates of venues, as well as a venue category that describes the location (Beer Bar, Italian Restaurant, Yoga Studio, etc). While there is a specific 'Coffee Shop' category, we may want to also include other venues such as 'Cafes'. We will want to focus on just the coffee shop and similar venues with New York City itself, and not nearby locations like Yonkers.\n\nBecause coffee shops are spread out all over New York City, simply finding the closest single point to all of them is going to give us a point very close to the geographical center of city and wouldn't be very helpful. Instead, we will try to split up the coffee shops into clusters, where we'll minimize the intra-cluster distance between coffee shops and maximize the inter-cluster difference. Unlike other cluster similiarity questions we've addressed in this course, we will be looking at the literal distance.\n\nTo achieve this, we will use K-Means Clustering to identify these centroids. We will also need to compare different values of K to determine how many clusters we should create, and therefore how many candidate locations we should provide our client."
        },
        {
            "cell_type": "code",
            "execution_count": null,
            "metadata": {},
            "outputs": [],
            "source": ""
        }
    ],
    "metadata": {
        "kernelspec": {
            "display_name": "Python 3.7",
            "language": "python",
            "name": "python3"
        },
        "language_info": {
            "codemirror_mode": {
                "name": "ipython",
                "version": 3
            },
            "file_extension": ".py",
            "mimetype": "text/x-python",
            "name": "python",
            "nbconvert_exporter": "python",
            "pygments_lexer": "ipython3",
            "version": "3.7.9"
        }
    },
    "nbformat": 4,
    "nbformat_minor": 1
}